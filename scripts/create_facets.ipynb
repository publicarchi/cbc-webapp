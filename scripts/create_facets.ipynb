{
 "cells": [
  {
   "cell_type": "code",
   "execution_count": 1,
   "metadata": {},
   "outputs": [],
   "source": [
    "import lxml.etree as ET\n",
    "from tqdm import tqdm\n",
    "\n",
    "root = ET.parse('/Users/williamdiakite/Desktop/cbc.xml/conbavil.xml').getroot()\n",
    "\n",
    "namespaceX = { \n",
    "    'cbc': 'http://conbavil.fr/namespace',\n",
    "    'xml': 'http://www.w3.org/XML/1998/namespace',\n",
    "    'fonc': \"http://conbavil.fr/fn\"\n",
    "}\n",
    "\n",
    "namespace = { \n",
    "    None: 'http://conbavil.fr/namespace',\n",
    "    'fonc': \"http://conbavil.fr/fn\",\n",
    "    'xml': 'http://www.w3.org/XML/1998/namespace'\n",
    "}\n",
    "\n",
    "cbc = '{http://conbavil.fr/namespace}'\n",
    "xml = '{http://www.w3.org/XML/1998/namespace}'\n",
    "\n",
    "db = ET.Element(cbc + 'facets', nsmap=namespace)"
   ]
  },
  {
   "cell_type": "code",
   "execution_count": 2,
   "metadata": {},
   "outputs": [
    {
     "name": "stdout",
     "output_type": "stream",
     "text": [
      "creating facet commune \n",
      "\n"
     ]
    },
    {
     "name": "stderr",
     "output_type": "stream",
     "text": [
      "100%|██████████| 5797/5797 [29:58<00:00,  3.22it/s]\n"
     ]
    },
    {
     "name": "stdout",
     "output_type": "stream",
     "text": [
      "creating facet departement \n",
      "\n"
     ]
    },
    {
     "name": "stderr",
     "output_type": "stream",
     "text": [
      "100%|██████████| 608/608 [03:08<00:00,  3.22it/s]\n"
     ]
    },
    {
     "name": "stdout",
     "output_type": "stream",
     "text": [
      "creating facet region \n",
      "\n"
     ]
    },
    {
     "name": "stderr",
     "output_type": "stream",
     "text": [
      "100%|██████████| 77/77 [00:25<00:00,  2.98it/s]\n"
     ]
    }
   ],
   "source": [
    "uniques = {}\n",
    "facets = ['commune', 'departement', 'region']\n",
    "\n",
    "for f in facets:\n",
    "    values = []\n",
    "    for v in root.xpath('.//cbc:' + f, namespaces=namespaceX):\n",
    "        t = v.text\n",
    "        if isinstance(t, str):\n",
    "            values.append(t)\n",
    "    values = list(set(values))\n",
    "\n",
    "    uniques[f] = values\n",
    "\n",
    "\n",
    "for k in uniques:\n",
    "    print('creating facet', k, '\\n')\n",
    "    facet = ET.SubElement(db, cbc + k + 's')\n",
    "\n",
    "    for v in tqdm(uniques[k]):\n",
    "        f = ET.SubElement(facet, cbc + k)\n",
    "        f.set('text', v)\n",
    "\n",
    "        deliberations = ET.SubElement(f, cbc + 'deliberations')\n",
    "        affairs = ET.SubElement(f, cbc + 'affairs')\n",
    "        meetings = ET.SubElement(f, cbc + 'meetings')\n",
    "\n",
    "        # deliberations\n",
    "        exp = './/cbc:deliberation[cbc:localisation/cbc:%s/text() = \"%s\"]/@xml:id' % (k, v)\n",
    "        # print(exp, '\\n')\n",
    "        for xml_id in root.xpath(exp, namespaces=namespaceX):\n",
    "            d = ET.SubElement(deliberations, cbc + 'deliberation')\n",
    "            d.attrib[xml + 'id'] = xml_id\n",
    "\n",
    "        # affairs\n",
    "        exp = './/cbc:affair[cbc:localisation/cbc:%s/text() = \"%s\"]/@xml:id' % (k, v)\n",
    "        # print(exp, '\\n')\n",
    "        for xmlId in root.xpath(exp, namespaces=namespaceX):\n",
    "            d = ET.SubElement(affairs, cbc + 'affair')\n",
    "            d.attrib[xml + 'id'] = xml_id\n",
    "\n",
    "        # meetings\n",
    "        exp = './/cbc:meeting[cbc:deliberations/cbc:deliberation/cbc:localisation/cbc:%s/text() = \"%s\"]/@xml:id' % (k, v)\n",
    "        # print(exp, '\\n')\n",
    "        for xmlId in root.xpath(exp, namespaces=namespaceX):\n",
    "            d = ET.SubElement(meetings, cbc + 'meeting')\n",
    "            d.attrib[xml + 'id'] = xml_id\n",
    "\n",
    "        "
   ]
  },
  {
   "cell_type": "code",
   "execution_count": 3,
   "metadata": {},
   "outputs": [
    {
     "name": "stdout",
     "output_type": "stream",
     "text": [
      "creating facet buildingType \n",
      "\n"
     ]
    },
    {
     "name": "stderr",
     "output_type": "stream",
     "text": [
      "100%|██████████| 444/444 [03:36<00:00,  2.05it/s]\n"
     ]
    },
    {
     "name": "stdout",
     "output_type": "stream",
     "text": [
      "creating facet projectGenre \n",
      "\n"
     ]
    },
    {
     "name": "stderr",
     "output_type": "stream",
     "text": [
      "100%|██████████| 115/115 [00:52<00:00,  2.20it/s]\n"
     ]
    },
    {
     "name": "stdout",
     "output_type": "stream",
     "text": [
      "creating facet administrativeObject \n",
      "\n"
     ]
    },
    {
     "name": "stderr",
     "output_type": "stream",
     "text": [
      "100%|██████████| 1077/1077 [08:15<00:00,  2.17it/s]\n"
     ]
    }
   ],
   "source": [
    "uniques = {}\n",
    "facets = ['buildingType', 'projectGenre', 'administrativeObject']\n",
    "\n",
    "for f in facets:\n",
    "    values = []\n",
    "    for v in root.xpath('.//cbc:category[@type=\"%s\"]' % f, namespaces=namespaceX):\n",
    "        t = v.text\n",
    "        if isinstance(t, str):\n",
    "            values.append(t)\n",
    "    values = list(set(values))\n",
    "\n",
    "    uniques[f] = values\n",
    "\n",
    "categories = ET.SubElement(db, cbc + 'categories')\n",
    "\n",
    "for k in uniques:\n",
    "    print('creating facet', k, '\\n')\n",
    "\n",
    "    for v in tqdm(uniques[k]):\n",
    "        f = ET.SubElement(categories, cbc + 'categories')\n",
    "        f.set('text', v)\n",
    "        f.set('type', k)\n",
    "\n",
    "        deliberations = ET.SubElement(f, cbc + 'deliberations')\n",
    "        affairs = ET.SubElement(f, cbc + 'affairs')\n",
    "        meetings = ET.SubElement(f, cbc + 'meetings')\n",
    "\n",
    "        # deliberations\n",
    "        exp = './/cbc:deliberation[cbc:categories/cbc:category[@type = \"%s\"]/text() = \"%s\"]/@xml:id' % (k, v)\n",
    "        # print(exp, '\\n')\n",
    "        for xml_id in root.xpath(exp, namespaces=namespaceX):\n",
    "            d = ET.SubElement(deliberations, cbc + 'deliberation')\n",
    "            d.attrib[xml + 'id'] = xml_id\n",
    "       \n",
    "        # affairs\n",
    "        exp = './/cbc:affair[cbc:categories/cbc:category[@type = \"%s\"]/text() = \"%s\"]/@xml:id' % (k, v)\n",
    "        # print(exp, '\\n')\n",
    "        for xml_id in root.xpath(exp, namespaces=namespaceX):\n",
    "            d = ET.SubElement(affairs, cbc + 'affair')\n",
    "            d.attrib[xml + 'id'] = xml_id\n",
    "        \n",
    "        # meetings\n",
    "        exp = './/cbc:meeting[cbc:deliberations/cbc:deliberation/cbc:categories/cbc:category[@type = \"%s\"]/text() = \"%s\"]/@xml:id' % (k, v)\n",
    "        # print(exp, '\\n')\n",
    "        for xml_id in root.xpath(exp, namespaces=namespaceX):\n",
    "            d = ET.SubElement(meetings, cbc + 'meeting')\n",
    "            d.attrib[xml + 'id'] = xml_id\n"
   ]
  },
  {
   "cell_type": "code",
   "execution_count": 4,
   "metadata": {},
   "outputs": [],
   "source": [
    "ET.ElementTree(db).write('../facets.xml', pretty_print=True, encoding='UTF-8')"
   ]
  }
 ],
 "metadata": {
  "kernelspec": {
   "display_name": "Python 3.10.4 64-bit",
   "language": "python",
   "name": "python3"
  },
  "language_info": {
   "codemirror_mode": {
    "name": "ipython",
    "version": 3
   },
   "file_extension": ".py",
   "mimetype": "text/x-python",
   "name": "python",
   "nbconvert_exporter": "python",
   "pygments_lexer": "ipython3",
   "version": "3.10.4"
  },
  "orig_nbformat": 4,
  "vscode": {
   "interpreter": {
    "hash": "aee8b7b246df8f9039afb4144a1f6fd8d2ca17a180786b69acc140d282b71a49"
   }
  }
 },
 "nbformat": 4,
 "nbformat_minor": 2
}
